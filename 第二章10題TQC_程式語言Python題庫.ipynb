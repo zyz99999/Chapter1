{
  "nbformat": 4,
  "nbformat_minor": 0,
  "metadata": {
    "colab": {
      "name": "第二章10題TQC+_程式語言Python題庫.ipynb",
      "provenance": []
    },
    "kernelspec": {
      "name": "python3",
      "display_name": "Python 3"
    }
  },
  "cells": [
    {
      "cell_type": "code",
      "metadata": {
        "id": "aZbsKgyM3Ni0",
        "colab_type": "code",
        "colab": {}
      },
      "source": [
        "**TQC+ 程式語言Python 綜合範例11**\n",
        "\n",
        "11. 請使用選擇敘述撰寫一程式，由使用者輸入整數的點座標(x, y)，然後檢視該點是否位於中心點(0, 0)，長為8，高為6的矩形內圓方。\n",
        "\n",
        "*提示：如果此點與矩形中心點之水平距離小於或等於8/2，而且垂直距離小於或等於6/2，則此點位於矩形內，否則位於矩形外。\n",
        "\n",
        "1. 輸入輸出 1： \n",
        "\n",
        "   (1) 範例輸入\n",
        "       4, 4\n",
        "   (2) 範例輸出\n",
        "      (4, 4) is outside of the rectangle\n",
        "\n",
        "2. 輸出範例 2：\n",
        "\n",
        "   (1) 範例輸入\n",
        "       4, 3\n",
        "   (2) 範例輸出\n",
        "      (4, 3) is inside the rectangle"
      ],
      "execution_count": 0,
      "outputs": []
    },
    {
      "cell_type": "code",
      "metadata": {
        "id": "-Ejs3z6K4AiQ",
        "colab_type": "code",
        "colab": {}
      },
      "source": [
        "3. 參考程式：\n",
        "\n",
        "1 import math\n",
        "2 x1, y1 = eval(input())\n",
        "3\n",
        "4 if x1 <= 8/2 and y1 <= 6/2：\n",
        "5     print('(%d, %d) is inside of the rectangle'%(x1, y1))\n",
        "6 else：\n",
        "7     print('(%d, %d) is outside of the rectangle'%(x1, y1))"
      ],
      "execution_count": 0,
      "outputs": []
    },
    {
      "cell_type": "code",
      "metadata": {
        "id": "xwMkV3an7MC2",
        "colab_type": "code",
        "colab": {}
      },
      "source": [
        "**TQC+ 程式語言Python 綜合範例12**\n",
        "\n",
        "12. 請使用選擇敘述撰寫一程式，利用亂數產生器產生介於 1~100 之間的亂數，然後檢視這個亂數是偶數或是奇數。\n",
        "\n",
        "*提示： 如果此亂數除以2，餘數為0時，則為偶數，否則為奇數。\n",
        "\n",
        "1. 輸入輸出 1： \n",
        "\n",
        "   (1) 範例輸入\n",
        "       無\n",
        "   (2) 範例輸出\n",
        "       6 is even number.\n",
        "\n",
        "2. 輸出範例 2：\n",
        "\n",
        "   (1) 範例輸入\n",
        "       無 \n",
        "   (2) 範例輸出\n",
        "       35 is odd number."
      ],
      "execution_count": 0,
      "outputs": []
    },
    {
      "cell_type": "code",
      "metadata": {
        "id": "7qNKxy2c9qH1",
        "colab_type": "code",
        "colab": {}
      },
      "source": [
        "3. 參考程式：\n",
        "\n",
        "1 import random\n",
        "2 num = random.randint(1, 100))\n",
        "3 if num % 2 == 0:\n",
        "4     print('%d is even number. '%(num))\n",
        "5 else:\n",
        "6     print('%d is odd number.'%(num))"
      ],
      "execution_count": 0,
      "outputs": []
    },
    {
      "cell_type": "code",
      "metadata": {
        "id": "LzYAWFQF-_zc",
        "colab_type": "code",
        "colab": {}
      },
      "source": [
        "**TQC+ 程式語言Python 綜合範例13**\n",
        "\n",
        "13. 請使用選擇敘述撰寫一程式，利用克拉瑪(Cramer's rule)公式解二元一次方程式。\n",
        "    假設有兩個二元一次方程式，如下所示：\n",
        "\n",
        "ax + by = c\n",
        "dx + ey = f \n",
        "\n",
        "其中a, b, c, d, e, f 皆為整數，x 與 y 的解如下：\n",
        "\n",
        "x = (ce-bf)/(ae-bd)\n",
        "y = (af-cd)/(ae-bd)\n",
        "  \n",
        "     * 提示：如果(ae - bd)為0，則表示有無限多組解惑是無解。\n",
        "\n",
        "1.   輸入輸出 1 :\n",
        "    \n",
        "     (1) 範例輸入\n",
        "         Enter a, b, c: 1, 2, 4\n",
        "         Enter d, e, f: 2, 4, 5\n",
        "     (2) 範例輸出\n",
        "         無解\n",
        "\n",
        "2.   輸入輸出 2 :\n",
        "\n",
        "     (1) 範例輸入\n",
        "         Enter a, b, c: 9, 4, -6\n",
        "         Enter d, e, f: 3, -5, -21\n",
        "     (2) 範例輸出\n",
        "         x is -2.00 ,y = -3.00"
      ],
      "execution_count": 0,
      "outputs": []
    },
    {
      "cell_type": "code",
      "metadata": {
        "id": "rekkjBfkCI_C",
        "colab_type": "code",
        "colab": {}
      },
      "source": [
        "3. 參考程式：\n",
        "\n",
        "1 a, b, c = eval(input('Enter a, b, c: '))\n",
        "2 d, e, f = eval(input('Enter d, e, f: '))\n",
        "3 \n",
        "4 if a*e - b*d == 0:\n",
        "5     if c*e - b*f == 0 and c*f - c*d == 0:\n",
        "6         print('有無限多組解')\n",
        "7     else:\n",
        "8         print('無解')\n",
        "9 else:\n",
        "10    x = (c*e - b*f) / (a*e - b*d)\n",
        "11    y = (a*f - c*d) / (a*e - b*d)\n",
        "12    print('x is %.2f, y = %.2f '%(x, y))"
      ],
      "execution_count": 0,
      "outputs": []
    },
    {
      "cell_type": "code",
      "metadata": {
        "id": "rAi6bzllEcp2",
        "colab_type": "code",
        "colab": {}
      },
      "source": [
        "**TQC+ 程式語言Python 綜合範例14**\n",
        "\n",
        "14. 請使用選擇敘述撰寫一程式，讓使用者輸入的三位數的整數，檢視它是否為迴文數(palinedrome number)。\n",
        "\n",
        "1. 輸入輸出 1 :\n",
        "\n",
        "   (1) 範例輸入\n",
        "       131\n",
        "   (2) 範例輸出\n",
        "       131 is not a palindrome number.\n",
        "\n",
        "2. 輸出輸入 2 :\n",
        "  \n",
        "   (1) 範例輸入\n",
        "       122\n",
        "   (2) 範例輸出\n",
        "       122 is not a palindrome number. \n",
        "\n"
      ],
      "execution_count": 0,
      "outputs": []
    },
    {
      "cell_type": "code",
      "metadata": {
        "id": "D1Wa5141Ec7H",
        "colab_type": "code",
        "colab": {}
      },
      "source": [
        "3. 參考程式 ：\n",
        "\n",
        "1 number = eval(input(\"Enter a three-digit integer: \"))\n",
        "2 reverseNumber = (number % 10) * 100 + (number // 10 \\ \n",
        "3                  % 10) * 10 + (number // 100)\n",
        "4\n",
        "5 if number == reverseNumber:\n",
        "6    print(number, \"is a palindrome number.\")\n",
        "7 else:\n",
        "8     print(number, \"is not a palindrome number.\")\n",
        "\n",
        "程式中由於有跨行，所以在後面加上 \\ 表示此行連續到下一行。 \n"
      ],
      "execution_count": 0,
      "outputs": []
    },
    {
      "cell_type": "code",
      "metadata": {
        "id": "ggW1T41REdU_",
        "colab_type": "code",
        "colab": {}
      },
      "source": [
        "**TQC+ 程式語言Python 綜合範例15**\n",
        "\n",
        "15. 請使用選擇敘述撰寫一程式，輸入三個整數，並由小至大加以排序後印出。\n",
        "\n",
        "1. 輸出輸入：\n",
        "   (1) 範例輸入\n",
        "       Enter three integers: 8, 6, 1\n",
        "   (2) 範例輸出\n",
        "       The sorted numbers are 1 6 8 \n",
        "       "
      ],
      "execution_count": 0,
      "outputs": []
    },
    {
      "cell_type": "code",
      "metadata": {
        "id": "C80p5Jt0Edf4",
        "colab_type": "code",
        "colab": {}
      },
      "source": [
        "2. 參考程式：\n",
        "\n",
        "1 num1, num2, num3, = eval(input(\"Enter three integers: \"))\n",
        "2 if num1 > num2:\n",
        "3     num1, num2 = num2, num1\n",
        "4\n",
        "5 if num2 > num3:\n",
        "6     num2, num3 = num3, num2\n",
        "7\n",
        "8 if num1 > num2:\n",
        "9     num1, num2 = num2, num1\n",
        "10\n",
        "11 print(\"The sorted number are\", num1, num2, num3)\n",
        "\n",
        "程式中的\n",
        "\n",
        "num1, num2 = num2, num1\n",
        "\n",
        "表示將 num1 與 num2 交換。"
      ],
      "execution_count": 0,
      "outputs": []
    },
    {
      "cell_type": "code",
      "metadata": {
        "id": "GnuHhf_oxv7j",
        "colab_type": "code",
        "colab": {}
      },
      "source": [
        "**TQC+ 程式語言Python 習題1**\n",
        "\n",
        "1. 一元二次方程式 ax²+bx+c 的解為 (-b+(b²-4ac)^1/2)/2a 和 (-b-(b²-4ac)^1/2)2a ，試輸入a、b、c，求出此方程式的解。\n",
        "*輸入與輸出樣本1:\n",
        "輸入:\n",
        "Enter a, b, c: 2, -8, 6\n",
        "輸出:\n",
        "The solutions are 3.000000 and 1.000000\n",
        "\n",
        "*輸入與輸出樣本2:\n",
        "輸入:\n",
        "Enter a, b, c: 1, -4, 4\n",
        "輸出:\n",
        "The solution is 2.000000\n",
        "\n",
        "*輸入與輸出樣本3:\n",
        "輸入:\n",
        "Enter a, b, c: 2, 1, 1\n",
        "輸出:\n",
        "No solution"
      ],
      "execution_count": 0,
      "outputs": []
    },
    {
      "cell_type": "code",
      "metadata": {
        "id": "mHpotDrO3QOw",
        "colab_type": "code",
        "colab": {}
      },
      "source": [
        "**TQC+ 程式語言Python 習題1參考程式**\n",
        "\n",
        "1  import math\n",
        "2  a, b, c = eval(input('Enter a, b, c: '))\n",
        "3  deter = b**2 - 4*a*c\n",
        "4  if deter > 0:\n",
        "5      answer1 = (-b + math.sqrt(deter)) / (2 * a)\n",
        "6      answer2 = (-b - math.sqrt(deter)) / (2 * a)\n",
        "7      print('The solutions are %f and %f'%(answer1, answer2))\n",
        "8  elif deter == 0:\n",
        "9      answer = -b / (2 * a)\n",
        "10     print('The solution is %f'%(answer))\n",
        "11 else:\n",
        "12     print('No solution')\n",
        "     "
      ],
      "execution_count": 0,
      "outputs": []
    },
    {
      "cell_type": "code",
      "metadata": {
        "id": "jE-if5Wy3SI0",
        "colab_type": "code",
        "colab": {}
      },
      "source": [
        "**TQC+ 程式語言Python 習題2**\n",
        "\n",
        "2. 試撰寫一程式，由使用著的點座標(x,y)，其中x,y皆為整數，然後檢視該點是否位於中心點為(0,0)，半徑為8的圓內或圓外。\n",
        "*提示:若點座標與圓心(0,0)的距離小於或等於8，則表示此點位於圓內，否於位於圓外。\n",
        "*輸入與輸出樣本1:\n",
        "輸入:\n",
        "3, 6\n",
        "輸出:\n",
        "(3, 6) is inside of the circle\n",
        "\n",
        "*輸入與輸出樣本2:\n",
        "輸入:\n",
        "8, 9\n",
        "輸出: \n",
        "(8, 9) is ouside of the circle\n"
      ],
      "execution_count": 0,
      "outputs": []
    },
    {
      "cell_type": "code",
      "metadata": {
        "id": "nlhx6aLz3UxO",
        "colab_type": "code",
        "colab": {}
      },
      "source": [
        "**TQC+ 程式語言Python 習題2參考程式**\n",
        "\n",
        "1 import math\n",
        "2 x1, y1 = eval(input())\n",
        "3\n",
        "4 dist = math.sqrt((x1-0)**2 +(y1-0)**2)\n",
        "5 if dist <= 8:\n",
        "6     print('(%d, %d) is inside of the circle'%(x1, y1\n",
        "7 else:\n",
        "8     print('(%d, %d) is outside of the circle'%(x1, y1))"
      ],
      "execution_count": 0,
      "outputs": []
    },
    {
      "cell_type": "code",
      "metadata": {
        "id": "LBSeUKJa3XGn",
        "colab_type": "code",
        "colab": {}
      },
      "source": [
        "**TQC+ 程式語言Python 習題3**\n",
        "\n",
        "3. 試撰寫一程式，利用亂數產生器產生介於1～100之間的亂數，然後檢視這個亂數是3的倍數或是5的倍數或皆是或皆不是。\n",
        "*提示:此亂數若除以3，餘數為0時，則為3的倍數，若是除以5，餘數為0時，則為5的倍數。\n",
        "*輸入與輸出樣本1:\n",
        "輸入:\n",
        "無\n",
        "輸出:\n",
        "68 is not 3's or 5's multiply.\n",
        "\n",
        "*輸入與輸出樣本2:\n",
        "輸入:\n",
        "無\n",
        "輸出:\n",
        "66 is 3's multiply.\n",
        "\n",
        "*輸入與輸出樣本3:\n",
        "輸入:\n",
        "無\n",
        "輸出:\n",
        "45 is 3's and 5's multiply. \n"
      ],
      "execution_count": 0,
      "outputs": []
    },
    {
      "cell_type": "code",
      "metadata": {
        "id": "ZK6RndgJ3ZOs",
        "colab_type": "code",
        "colab": {}
      },
      "source": [
        "**TQC+ 程式語言Python 習題3參考程式**\n",
        "\n",
        "1  import random\n",
        "2  num = random.randint(1, 100)\n",
        "3  if num % 3 == 0 and num % 5 == 0:\n",
        "4      print('%d is 3\\'s and 5\\'s multiply.'%(num))\n",
        "5  elif:\n",
        "6       if num % 3 == 0:\n",
        "7          print('%d is 3\\'s multiply.'%(num))\n",
        "8       else:\n",
        "9          if num % 5 == 0:\n",
        "10            print('%d is 5\\'s multiply.'%(num))\n",
        "11         else:\n",
        "12            print('%d is not 3\\'s or 5\\'s multiply.'%(num))\n"
      ],
      "execution_count": 0,
      "outputs": []
    },
    {
      "cell_type": "code",
      "metadata": {
        "id": "kCCdCX0T3djc",
        "colab_type": "code",
        "colab": {}
      },
      "source": [
        "**TQC+ 程式語言Python 習題4**\n",
        "\n",
        "4. 試撰寫一程式，將使用者所輸入的十六進位的字元轉換為其十進位所對應的數值。\n",
        "*輸入與輸出樣本1:\n",
        "輸入:\n",
        "Enter a hexChar character: 9\n",
        "輸出:\n",
        "The decimal value is 9\n",
        "\n",
        "*輸入與輸出樣本2:\n",
        "輸入:\n",
        "Enter a hexChar character: A\n",
        "輸出:\n",
        "The decimal value is 10\n",
        "\n",
        "*輸入與輸出樣本3:\n",
        "輸入:\n",
        "Enter a hexChar character: a\n",
        "輸出:\n",
        "The decimal value is 10\n",
        "\n",
        "*輸入與輸出樣本4:\n",
        "輸入:\n",
        "Enter a hexChar character: G\n",
        "輸出:\n",
        "Invalid input\n"
      ],
      "execution_count": 0,
      "outputs": []
    },
    {
      "cell_type": "code",
      "metadata": {
        "id": "UvbLwPdA5BTm",
        "colab_type": "code",
        "colab": {}
      },
      "source": [
        "**TQC+ 程式語言Python 習題4參考程式**\n",
        "\n",
        "1 hexChar = input(\"Enter a hexChar character: \")\n",
        "2 if hexChar >= '0' and hexChar <= '9':\n",
        "3     print(\"The decimal value is\" , ord(hexChar) - ord('0'))\n",
        "4 elif hexChar <= 'F' and hexChar >= 'A':\n",
        "5     print(\"The decimal value is\", ord(hexChar) - ord('A') + 10)\n",
        "6 elif hexChar <= 'f' and hexChar >= 'a':\n",
        "7     print(\"The decimal value is\", ord(hexChar) - ord('a') + 10)\n",
        "8 else:\n",
        "9     print(\"Invalid input\")\n",
        "\n",
        "程式利用ord函式將字元轉為ASCII\n"
      ],
      "execution_count": 0,
      "outputs": []
    },
    {
      "cell_type": "code",
      "metadata": {
        "id": "3BxtZxog63hc",
        "colab_type": "code",
        "colab": {}
      },
      "source": [
        "**TQC+ 程式語言Python 習題5**\n",
        "\n",
        "5. 試撰寫一程式，從使用者輸入一個整數，檢視它是否被5或8整除、或被5與8整除或無法被5或8整除。\n",
        "\n",
        "*輸入與輸出樣本1:\n",
        "輸入:\n",
        "Enter a number: 40\n",
        "輸出:\n",
        "40 can be divided by 5 or 8.\n",
        "40 can be divided by 5 and 8.\n",
        "\n",
        "*輸入與輸出樣本2:\n",
        "輸入:\n",
        "Enter a number: 15\n",
        "輸出:\n",
        "15 can be divided by 5 or 8.\n",
        "\n",
        "*輸入與輸出樣本3:\n",
        "輸入:\n",
        "Enter a number: 19\n",
        "輸出:\n",
        "19 can't be divided by 5 or 8.\n"
      ],
      "execution_count": 0,
      "outputs": []
    },
    {
      "cell_type": "code",
      "metadata": {
        "id": "tYpQoTTf7Ud_",
        "colab_type": "code",
        "colab": {}
      },
      "source": [
        "**TQC+ 程式語言Python 習題5參考程式**\n",
        "\n",
        "1 n = eval(input('Enter a number: '))\n",
        "2 if n % 5 == 0 or n % 8 == 0:\n",
        "3     print('%d can be divided by 5 or 8.'%(n))\n",
        "4 else:\n",
        "5     print('%d can't be divided by 5 or 8.'%(n))\n",
        "6 if n % 5 == 0 and n % 8 == 0:\n",
        "7     print('%d can be divided by 5 and 8.'%(n))\n",
        "  "
      ],
      "execution_count": 0,
      "outputs": []
    }
  ]
}